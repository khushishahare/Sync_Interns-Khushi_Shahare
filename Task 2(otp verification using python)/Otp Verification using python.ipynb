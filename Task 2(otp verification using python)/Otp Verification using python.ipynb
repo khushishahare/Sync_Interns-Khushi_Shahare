{
 "cells": [
  {
   "cell_type": "code",
   "execution_count": 5,
   "metadata": {},
   "outputs": [],
   "source": [
    "import random \n",
    "from twilio.rest import Client \n",
    "\n",
    "otp=random.randint(1000,9999)\n",
    "\n",
    "account_sid=\"AC6463bc18e66fe75ff2aceec24b6e06a9\"\n",
    "\n",
    "auth_token='0d99b942e42d039f2a1dd813f78ecb99'\n",
    "\n",
    "client=Client(account_sid,auth_token)\n",
    "\n",
    "msg=client.messages.create(\n",
    "    body=f\"Your OTP is {otp}\",\n",
    "    from_=\"+15675571755\",\n",
    "    to=\"+918830357405\"\n",
    ")"
   ]
  },
  {
   "cell_type": "code",
   "execution_count": null,
   "metadata": {},
   "outputs": [],
   "source": []
  }
 ],
 "metadata": {
  "kernelspec": {
   "display_name": "Python 3",
   "language": "python",
   "name": "python3"
  },
  "language_info": {
   "codemirror_mode": {
    "name": "ipython",
    "version": 3
   },
   "file_extension": ".py",
   "mimetype": "text/x-python",
   "name": "python",
   "nbconvert_exporter": "python",
   "pygments_lexer": "ipython3",
   "version": "3.8.5"
  }
 },
 "nbformat": 4,
 "nbformat_minor": 4
}
