{
 "cells": [
  {
   "cell_type": "code",
   "execution_count": 7,
   "metadata": {},
   "outputs": [
    {
     "name": "stdout",
     "output_type": "stream",
     "text": [
      "Enter the link :https://www.linkedin.com/in/himanshu-surkar-52b63a1b7/\n",
      "https://tinyurl.com/2k388zav\n"
     ]
    }
   ],
   "source": [
    "import pyshorteners\n",
    "\n",
    "link=input(\"Enter the link :\") \n",
    "\n",
    "shortener=pyshorteners.Shortener()\n",
    "\n",
    "x=shortener.tinyurl.short(link)\n",
    "\n",
    "print(x)"
   ]
  },
  {
   "cell_type": "code",
   "execution_count": null,
   "metadata": {},
   "outputs": [],
   "source": []
  }
 ],
 "metadata": {
  "kernelspec": {
   "display_name": "Python 3",
   "language": "python",
   "name": "python3"
  },
  "language_info": {
   "codemirror_mode": {
    "name": "ipython",
    "version": 3
   },
   "file_extension": ".py",
   "mimetype": "text/x-python",
   "name": "python",
   "nbconvert_exporter": "python",
   "pygments_lexer": "ipython3",
   "version": "3.8.5"
  }
 },
 "nbformat": 4,
 "nbformat_minor": 4
}
